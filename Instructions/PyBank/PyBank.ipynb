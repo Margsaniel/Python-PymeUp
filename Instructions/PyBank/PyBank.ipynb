{
 "cells": [
  {
   "cell_type": "code",
   "execution_count": 2,
   "metadata": {},
   "outputs": [
    {
     "name": "stdout",
     "output_type": "stream",
     "text": [
      "\n",
      "Financial Analysis\n",
      "----------\n",
      "Total Months: 86\n",
      "Total: $38382578\n",
      "Average  Change: $-2315.12\n",
      "Greatest Increase in Profits: Feb-2012 ($1926159)\n",
      "Greatest Decrease in Profits: Sep-2013 ($-2196167)\n",
      "\n"
     ]
    }
   ],
   "source": [
    "import os, csv\n",
    "\n",
    "file_to_load = os.path.join(\"Resources/budget_data.csv\")\n",
    "\n",
    "month_count = 0\n",
    "month_changes = []\n",
    "net_changes = []\n",
    "\n",
    "net_amount = 0\n",
    "increase = [\"\", 0]\n",
    "decrease = [\"\", 0]\n",
    "\n",
    "# Open and read csv\n",
    "with open(file_to_load) as budget_data:\n",
    "    csv_reader = csv.reader(budget_data)\n",
    "    # Read the header row first (skip this part if there is no header)\n",
    "    data = next(csv_reader)\n",
    "\n",
    "    \n",
    "    first_row = next(csv_reader)\n",
    "    \n",
    "    month_count = month_count + 1\n",
    "    \n",
    "    net_amount = net_amount + int(first_row[1])\n",
    "    \n",
    "    prev_net = int(first_row[1])\n",
    "\n",
    "    for row in csv_reader:\n",
    "\n",
    "        month_count = month_count + 1\n",
    "        net_amount = net_amount + int(row[1])\n",
    "\n",
    "        net_change = int(row[1]) - prev_net\n",
    "        prev_net = int(row[1])\n",
    "        net_changes = net_changes + [net_change]\n",
    "        month_changes = month_changes + [row[0]]\n",
    "\n",
    "        if net_change > increase[1]:\n",
    "            increase[0] = row[0]\n",
    "            increase[1] = net_change\n",
    "\n",
    "\n",
    "        if net_change < decrease[1]:\n",
    "            decrease[0] = row[0]\n",
    "            decrease[1] = net_change\n",
    "\n",
    "            \n",
    "average_revenuechange = sum(net_changes) / len(net_changes)\n",
    "\n",
    "\n",
    "data_output = (\n",
    "    f\"\\nFinancial Analysis\\n\"\n",
    "    f\"----------\\n\"\n",
    "    f\"Total Months: {month_count}\\n\"\n",
    "    f\"Total: ${net_amount}\\n\"\n",
    "    f\"Average  Change: ${average_revenuechange:.2f}\\n\"\n",
    "    f\"Greatest Increase in Profits: {increase[0]} (${increase[1]})\\n\"\n",
    "    f\"Greatest Decrease in Profits: {decrease[0]} (${decrease[1]})\\n\")\n",
    "\n",
    "print(data_output)\n"
   ]
  },
  {
   "cell_type": "code",
   "execution_count": null,
   "metadata": {},
   "outputs": [],
   "source": []
  }
 ],
 "metadata": {
  "kernelspec": {
   "display_name": "Python 3",
   "language": "python",
   "name": "python3"
  },
  "language_info": {
   "codemirror_mode": {
    "name": "ipython",
    "version": 3
   },
   "file_extension": ".py",
   "mimetype": "text/x-python",
   "name": "python",
   "nbconvert_exporter": "python",
   "pygments_lexer": "ipython3",
   "version": "3.6.8"
  }
 },
 "nbformat": 4,
 "nbformat_minor": 2
}
